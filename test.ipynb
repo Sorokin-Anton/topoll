{
 "cells": [
  {
   "cell_type": "code",
   "execution_count": 29,
   "metadata": {},
   "outputs": [],
   "source": [
    ":set -XOverloadedLabels -XOverloadedLists\n",
    "import Topoll.Samplers.Samplers\n",
    "import Topoll.DistanceMatrix.DistanceMatrix\n",
    "import Topoll.Complexes.Witness\n",
    "import Topoll.Complexes.Rips\n",
    "import Topoll.SimplicialSet\n",
    "import Topoll.Drawings\n",
    "import Named\n",
    "import qualified Data.Vector as V\n"
   ]
  },
  {
   "cell_type": "code",
   "execution_count": 31,
   "metadata": {},
   "outputs": [],
   "source": [
    "pts <- sampleSphereUniformly ! #r 10 ! #n 100\n",
    "-- pts <- sampleTorusUniformly ! #r 2 ! #bigR 10 ! #n 500"
   ]
  },
  {
   "cell_type": "code",
   "execution_count": 32,
   "metadata": {},
   "outputs": [],
   "source": [
    "dat <- chooseMaxminLandmarks 12 pts \n",
    "wComplex nu r = case witnessSet (computeDistanceMatrix dat) ! #nu nu ! #r r of\n",
    "  Right cc -> cc\n",
    "  Left err -> error err\n",
    "\n",
    "rComplex r = ripsSet (computeTotalDistanceMatrix (landmarkPoints dat)) ! #r r"
   ]
  },
  {
   "cell_type": "code",
   "execution_count": 33,
   "metadata": {},
   "outputs": [
    {
     "data": {
      "text/plain": [
       "[1,4,0]\n",
       "[1,1,0,0]\n",
       "[1,0,0,0]\n",
       "[1,0,1,0]\n",
       "[1,0,1,0]\n",
       "[1,0,2,0]\n",
       "[1,0,1,0,0]\n",
       "[1,0,1,0,0]\n",
       "[1,0,1,0,0]\n",
       "[1,0,2,0,0]\n",
       "[1,0,0,0,0]\n",
       "[1,0,1,0,0]\n",
       "[1,0,1,0,0]\n",
       "[1,0,0,0,0,0]\n",
       "[1,0,0,0,0]\n",
       "[1,0,0,0,0,0]\n",
       "[1,0,0,0,0]\n",
       "[1,0,0,0,0]\n",
       "[1,0,0,0,0]\n",
       "[1,0,0,0,0]\n",
       "[1,0,0,0,0]"
      ]
     },
     "metadata": {},
     "output_type": "display_data"
    }
   ],
   "source": [
    "mapM_  (print . simplicialHomologyOverQ . wComplex 2) [0,0.5 .. 10] "
   ]
  },
  {
   "cell_type": "code",
   "execution_count": 36,
   "metadata": {},
   "outputs": [
    {
     "data": {
      "application/vnd.vegalite.v4+json": {
       "$schema": "https://vega.github.io/schema/vega-lite/v4.json",
       "data": {
        "values": [
         {
          "b": 1,
          "c": "0",
          "h": "H_0",
          "r": 0
         },
         {
          "b": 4,
          "c": "0",
          "h": "H_1",
          "r": 0
         },
         {
          "b": 0,
          "c": "0",
          "h": "H_2",
          "r": 0
         },
         {
          "b": 1,
          "c": "0",
          "h": "H_0",
          "r": 0.5
         },
         {
          "b": 1,
          "c": "0",
          "h": "H_1",
          "r": 0.5
         },
         {
          "b": 0,
          "c": "0",
          "h": "H_2",
          "r": 0.5
         },
         {
          "b": 0,
          "c": "0",
          "h": "H_3",
          "r": 0.5
         },
         {
          "b": 1,
          "c": "0",
          "h": "H_0",
          "r": 1
         },
         {
          "b": 0,
          "c": "0",
          "h": "H_1",
          "r": 1
         },
         {
          "b": 0,
          "c": "0",
          "h": "H_2",
          "r": 1
         },
         {
          "b": 0,
          "c": "0",
          "h": "H_3",
          "r": 1
         },
         {
          "b": 1,
          "c": "1",
          "h": "H_0",
          "r": 1.5
         },
         {
          "b": 0,
          "c": "1",
          "h": "H_1",
          "r": 1.5
         },
         {
          "b": 1,
          "c": "1",
          "h": "H_2",
          "r": 1.5
         },
         {
          "b": 0,
          "c": "1",
          "h": "H_3",
          "r": 1.5
         },
         {
          "b": 1,
          "c": "1",
          "h": "H_0",
          "r": 2
         },
         {
          "b": 0,
          "c": "1",
          "h": "H_1",
          "r": 2
         },
         {
          "b": 1,
          "c": "1",
          "h": "H_2",
          "r": 2
         },
         {
          "b": 0,
          "c": "1",
          "h": "H_3",
          "r": 2
         },
         {
          "b": 1,
          "c": "0",
          "h": "H_0",
          "r": 2.5
         },
         {
          "b": 0,
          "c": "0",
          "h": "H_1",
          "r": 2.5
         },
         {
          "b": 2,
          "c": "0",
          "h": "H_2",
          "r": 2.5
         },
         {
          "b": 0,
          "c": "0",
          "h": "H_3",
          "r": 2.5
         },
         {
          "b": 1,
          "c": "1",
          "h": "H_0",
          "r": 3
         },
         {
          "b": 0,
          "c": "1",
          "h": "H_1",
          "r": 3
         },
         {
          "b": 1,
          "c": "1",
          "h": "H_2",
          "r": 3
         },
         {
          "b": 0,
          "c": "1",
          "h": "H_3",
          "r": 3
         },
         {
          "b": 0,
          "c": "1",
          "h": "H_4",
          "r": 3
         },
         {
          "b": 1,
          "c": "1",
          "h": "H_0",
          "r": 3.5
         },
         {
          "b": 0,
          "c": "1",
          "h": "H_1",
          "r": 3.5
         },
         {
          "b": 1,
          "c": "1",
          "h": "H_2",
          "r": 3.5
         },
         {
          "b": 0,
          "c": "1",
          "h": "H_3",
          "r": 3.5
         },
         {
          "b": 0,
          "c": "1",
          "h": "H_4",
          "r": 3.5
         },
         {
          "b": 1,
          "c": "1",
          "h": "H_0",
          "r": 4
         },
         {
          "b": 0,
          "c": "1",
          "h": "H_1",
          "r": 4
         },
         {
          "b": 1,
          "c": "1",
          "h": "H_2",
          "r": 4
         },
         {
          "b": 0,
          "c": "1",
          "h": "H_3",
          "r": 4
         },
         {
          "b": 0,
          "c": "1",
          "h": "H_4",
          "r": 4
         },
         {
          "b": 1,
          "c": "0",
          "h": "H_0",
          "r": 4.5
         },
         {
          "b": 0,
          "c": "0",
          "h": "H_1",
          "r": 4.5
         },
         {
          "b": 2,
          "c": "0",
          "h": "H_2",
          "r": 4.5
         },
         {
          "b": 0,
          "c": "0",
          "h": "H_3",
          "r": 4.5
         },
         {
          "b": 0,
          "c": "0",
          "h": "H_4",
          "r": 4.5
         },
         {
          "b": 1,
          "c": "0",
          "h": "H_0",
          "r": 5
         },
         {
          "b": 0,
          "c": "0",
          "h": "H_1",
          "r": 5
         },
         {
          "b": 0,
          "c": "0",
          "h": "H_2",
          "r": 5
         },
         {
          "b": 0,
          "c": "0",
          "h": "H_3",
          "r": 5
         },
         {
          "b": 0,
          "c": "0",
          "h": "H_4",
          "r": 5
         },
         {
          "b": 1,
          "c": "1",
          "h": "H_0",
          "r": 5.5
         },
         {
          "b": 0,
          "c": "1",
          "h": "H_1",
          "r": 5.5
         },
         {
          "b": 1,
          "c": "1",
          "h": "H_2",
          "r": 5.5
         },
         {
          "b": 0,
          "c": "1",
          "h": "H_3",
          "r": 5.5
         },
         {
          "b": 0,
          "c": "1",
          "h": "H_4",
          "r": 5.5
         },
         {
          "b": 1,
          "c": "1",
          "h": "H_0",
          "r": 6
         },
         {
          "b": 0,
          "c": "1",
          "h": "H_1",
          "r": 6
         },
         {
          "b": 1,
          "c": "1",
          "h": "H_2",
          "r": 6
         },
         {
          "b": 0,
          "c": "1",
          "h": "H_3",
          "r": 6
         },
         {
          "b": 0,
          "c": "1",
          "h": "H_4",
          "r": 6
         },
         {
          "b": 1,
          "c": "0",
          "h": "H_0",
          "r": 6.5
         },
         {
          "b": 0,
          "c": "0",
          "h": "H_1",
          "r": 6.5
         },
         {
          "b": 0,
          "c": "0",
          "h": "H_2",
          "r": 6.5
         },
         {
          "b": 0,
          "c": "0",
          "h": "H_3",
          "r": 6.5
         },
         {
          "b": 0,
          "c": "0",
          "h": "H_4",
          "r": 6.5
         },
         {
          "b": 0,
          "c": "0",
          "h": "H_5",
          "r": 6.5
         },
         {
          "b": 1,
          "c": "0",
          "h": "H_0",
          "r": 7
         },
         {
          "b": 0,
          "c": "0",
          "h": "H_1",
          "r": 7
         },
         {
          "b": 0,
          "c": "0",
          "h": "H_2",
          "r": 7
         },
         {
          "b": 0,
          "c": "0",
          "h": "H_3",
          "r": 7
         },
         {
          "b": 0,
          "c": "0",
          "h": "H_4",
          "r": 7
         },
         {
          "b": 1,
          "c": "0",
          "h": "H_0",
          "r": 7.5
         },
         {
          "b": 0,
          "c": "0",
          "h": "H_1",
          "r": 7.5
         },
         {
          "b": 0,
          "c": "0",
          "h": "H_2",
          "r": 7.5
         },
         {
          "b": 0,
          "c": "0",
          "h": "H_3",
          "r": 7.5
         },
         {
          "b": 0,
          "c": "0",
          "h": "H_4",
          "r": 7.5
         },
         {
          "b": 0,
          "c": "0",
          "h": "H_5",
          "r": 7.5
         },
         {
          "b": 1,
          "c": "0",
          "h": "H_0",
          "r": 8
         },
         {
          "b": 0,
          "c": "0",
          "h": "H_1",
          "r": 8
         },
         {
          "b": 0,
          "c": "0",
          "h": "H_2",
          "r": 8
         },
         {
          "b": 0,
          "c": "0",
          "h": "H_3",
          "r": 8
         },
         {
          "b": 0,
          "c": "0",
          "h": "H_4",
          "r": 8
         },
         {
          "b": 1,
          "c": "0",
          "h": "H_0",
          "r": 8.5
         },
         {
          "b": 0,
          "c": "0",
          "h": "H_1",
          "r": 8.5
         },
         {
          "b": 0,
          "c": "0",
          "h": "H_2",
          "r": 8.5
         },
         {
          "b": 0,
          "c": "0",
          "h": "H_3",
          "r": 8.5
         },
         {
          "b": 0,
          "c": "0",
          "h": "H_4",
          "r": 8.5
         },
         {
          "b": 1,
          "c": "0",
          "h": "H_0",
          "r": 9
         },
         {
          "b": 0,
          "c": "0",
          "h": "H_1",
          "r": 9
         },
         {
          "b": 0,
          "c": "0",
          "h": "H_2",
          "r": 9
         },
         {
          "b": 0,
          "c": "0",
          "h": "H_3",
          "r": 9
         },
         {
          "b": 0,
          "c": "0",
          "h": "H_4",
          "r": 9
         },
         {
          "b": 1,
          "c": "0",
          "h": "H_0",
          "r": 9.5
         },
         {
          "b": 0,
          "c": "0",
          "h": "H_1",
          "r": 9.5
         },
         {
          "b": 0,
          "c": "0",
          "h": "H_2",
          "r": 9.5
         },
         {
          "b": 0,
          "c": "0",
          "h": "H_3",
          "r": 9.5
         },
         {
          "b": 0,
          "c": "0",
          "h": "H_4",
          "r": 9.5
         }
        ]
       },
       "encoding": {
        "color": {
         "field": "c",
         "legend": null,
         "scale": {
          "range": [
           "blue",
           "red"
          ]
         }
        },
        "column": {
         "field": "h",
         "title": null,
         "type": "nominal"
        },
        "x": {
         "axis": {
          "tickCount": 20
         },
         "field": "r",
         "type": "quantitative"
        },
        "y": {
         "axis": {
          "tickCount": 4,
          "titleAngle": 0,
          "titlePadding": 10
         },
         "field": "b",
         "type": "quantitative"
        }
       },
       "mark": "point"
      }
     },
     "metadata": {},
     "output_type": "display_data"
    }
   ],
   "source": [
    "vlShow $ drawPersistentHomologies (simplicialHomologyOverQ . wComplex 2) eqSphere 0.5 20"
   ]
  },
  {
   "cell_type": "code",
   "execution_count": null,
   "metadata": {},
   "outputs": [],
   "source": [
    "mapM_  (print . simplicialHomologyOverQ . rComplex) [0,0.5 .. 10] "
   ]
  },
  {
   "cell_type": "code",
   "execution_count": null,
   "metadata": {},
   "outputs": [],
   "source": []
  },
  {
   "cell_type": "code",
   "execution_count": null,
   "metadata": {},
   "outputs": [],
   "source": [
    "import Data.List (intercalate)\n",
    "import Text.Printf\n",
    "toWolfram :: V.Vector Point -> IO ()\n",
    "toWolfram points = do\n",
    "  let f = printf \"%.3f\"\n",
    "      pointsInBraces = \n",
    "        \"{\" <> intercalate \",\" \n",
    "            (map (\\[x,y,z] -> \"{\" <> f x <> \",\" <> f y <> \", \" <> f z <> \"}\")\n",
    "             (V.toList points)) <> \"}\"\n",
    "  putStrLn pointsInBraces\n",
    "toWolfram pts"
   ]
  },
  {
   "cell_type": "code",
   "execution_count": null,
   "metadata": {},
   "outputs": [],
   "source": []
  }
 ],
 "metadata": {
  "kernelspec": {
   "display_name": "Haskell",
   "language": "haskell",
   "name": "haskell"
  },
  "language_info": {
   "codemirror_mode": "ihaskell",
   "file_extension": ".hs",
   "mimetype": "text/x-haskell",
   "name": "haskell",
   "pygments_lexer": "Haskell",
   "version": "8.10.7"
  },
  "orig_nbformat": 4
 },
 "nbformat": 4,
 "nbformat_minor": 2
}
